{
  "nbformat": 4,
  "nbformat_minor": 0,
  "metadata": {
    "colab": {
      "provenance": [],
      "authorship_tag": "ABX9TyO2RR5ISVLbD4NPj6DZbkOP",
      "include_colab_link": true
    },
    "kernelspec": {
      "name": "python3",
      "display_name": "Python 3"
    },
    "language_info": {
      "name": "python"
    }
  },
  "cells": [
    {
      "cell_type": "markdown",
      "metadata": {
        "id": "view-in-github",
        "colab_type": "text"
      },
      "source": [
        "<a href=\"https://colab.research.google.com/github/Priyanshi614/ML_SEM6_CE017/blob/main/ML_LAB8_CE017.ipynb\" target=\"_parent\"><img src=\"https://colab.research.google.com/assets/colab-badge.svg\" alt=\"Open In Colab\"/></a>"
      ]
    },
    {
      "cell_type": "code",
      "execution_count": 1,
      "metadata": {
        "id": "RbKlRCmHjlWV"
      },
      "outputs": [],
      "source": [
        "import pandas as pd\n",
        "import numpy as np\n",
        "import sklearn\n",
        "from sklearn.datasets import load_breast_cancer\n",
        "\n",
        "from sklearn.metrics import accuracy_score"
      ]
    },
    {
      "cell_type": "code",
      "source": [
        "data = load_breast_cancer()\n",
        "data.target_names, data.feature_names, len(data.feature_names)"
      ],
      "metadata": {
        "colab": {
          "base_uri": "https://localhost:8080/"
        },
        "id": "jN2oTsQEke1G",
        "outputId": "a0c3ca5f-01cb-4878-ec59-20c057968888"
      },
      "execution_count": 2,
      "outputs": [
        {
          "output_type": "execute_result",
          "data": {
            "text/plain": [
              "(array(['malignant', 'benign'], dtype='<U9'),\n",
              " array(['mean radius', 'mean texture', 'mean perimeter', 'mean area',\n",
              "        'mean smoothness', 'mean compactness', 'mean concavity',\n",
              "        'mean concave points', 'mean symmetry', 'mean fractal dimension',\n",
              "        'radius error', 'texture error', 'perimeter error', 'area error',\n",
              "        'smoothness error', 'compactness error', 'concavity error',\n",
              "        'concave points error', 'symmetry error',\n",
              "        'fractal dimension error', 'worst radius', 'worst texture',\n",
              "        'worst perimeter', 'worst area', 'worst smoothness',\n",
              "        'worst compactness', 'worst concavity', 'worst concave points',\n",
              "        'worst symmetry', 'worst fractal dimension'], dtype='<U23'),\n",
              " 30)"
            ]
          },
          "metadata": {},
          "execution_count": 2
        }
      ]
    },
    {
      "cell_type": "code",
      "source": [
        "from sklearn import preprocessing\n",
        "\n",
        "X = preprocessing.MinMaxScaler().fit_transform(data.data)\n",
        "y = data.target"
      ],
      "metadata": {
        "id": "OETI0xWSkzWm"
      },
      "execution_count": 3,
      "outputs": []
    },
    {
      "cell_type": "code",
      "source": [
        "from sklearn.model_selection import train_test_split\n",
        "\n",
        "X_train, X_test, y_train, y_test = train_test_split(\n",
        "    X,\n",
        "    y,\n",
        "    train_size = 0.85\n",
        ")"
      ],
      "metadata": {
        "id": "FLyIAULnk2Vr"
      },
      "execution_count": 4,
      "outputs": []
    },
    {
      "cell_type": "code",
      "source": [
        "X_train_1, X_test_1, y_train_1, y_test_1 = train_test_split(X_train, y_train, train_size=0.75)\n",
        "X_train_2, X_test_2, y_train_2, y_test_2 = train_test_split(X_train, y_train, train_size=0.75)\n",
        "X_train_3, X_test_3, y_train_3, y_test_3 = train_test_split(X_train, y_train, train_size=0.75)"
      ],
      "metadata": {
        "id": "wZcOiYWxk52G"
      },
      "execution_count": 5,
      "outputs": []
    },
    {
      "cell_type": "code",
      "source": [
        "from sklearn import tree\n",
        "from sklearn import metrics\n",
        "\n",
        "model_1 = tree.DecisionTreeClassifier(max_depth=1)\n",
        "model_1 = model_1.fit(X_train_1, y_train_1)\n",
        "\n",
        "y_pred_1 = model_1.predict(X_test_1)\n",
        "print(\"Accuracy:\",metrics.accuracy_score(y_test_1, y_pred_1))\n",
        "print(\"Precision:\",metrics.precision_score(y_test_1,y_pred_1))\n",
        "print(\"Recall:\",metrics.recall_score(y_test_1,y_pred_1))\n",
        "print(\"F1 score:\",metrics.f1_score(y_test_1,y_pred_1))"
      ],
      "metadata": {
        "colab": {
          "base_uri": "https://localhost:8080/"
        },
        "id": "jBvlMniGk8WV",
        "outputId": "6381fe68-8589-49c6-bbe0-849c88609972"
      },
      "execution_count": 6,
      "outputs": [
        {
          "output_type": "stream",
          "name": "stdout",
          "text": [
            "Accuracy: 0.8512396694214877\n",
            "Precision: 0.825\n",
            "Recall: 0.9428571428571428\n",
            "F1 score: 0.88\n"
          ]
        }
      ]
    },
    {
      "cell_type": "code",
      "source": [
        "from sklearn.naive_bayes import GaussianNB\n",
        "from sklearn import metrics\n",
        "\n",
        "model_2 = GaussianNB().fit(X_train_2, y_train_2)\n",
        "\n",
        "y_pred_2 = model_2.predict(X_test_2)\n",
        "\n",
        "print(\"Accuracy:\",metrics.accuracy_score(y_test_2, y_pred_2))\n",
        "print(\"Precision:\",metrics.precision_score(y_test_2,y_pred_2))\n",
        "print(\"Recall:\",metrics.recall_score(y_test_2,y_pred_2))\n",
        "print(\"F1 score:\",metrics.f1_score(y_test_2,y_pred_2))"
      ],
      "metadata": {
        "colab": {
          "base_uri": "https://localhost:8080/"
        },
        "id": "0LC7ucj0k_Q0",
        "outputId": "11eb8003-7d98-4ebe-9238-4e5a98d1dd4a"
      },
      "execution_count": 7,
      "outputs": [
        {
          "output_type": "stream",
          "name": "stdout",
          "text": [
            "Accuracy: 0.9338842975206612\n",
            "Precision: 0.9156626506024096\n",
            "Recall: 0.987012987012987\n",
            "F1 score: 0.95\n"
          ]
        }
      ]
    },
    {
      "cell_type": "code",
      "source": [
        "from sklearn.naive_bayes import MultinomialNB\n",
        "from sklearn import metrics\n",
        "\n",
        "model_3 = MultinomialNB().fit(X_train_3, y_train_3)\n",
        "\n",
        "y_pred_3 = model_3.predict(X_test_3)\n",
        "\n",
        "print(\"Accuracy:\",metrics.accuracy_score(y_test_3, y_pred_3))\n",
        "print(\"Precision:\",metrics.precision_score(y_test_3,y_pred_3))\n",
        "print(\"Recall:\",metrics.recall_score(y_test_3,y_pred_3))\n",
        "print(\"F1 score:\",metrics.f1_score(y_test_3,y_pred_3))"
      ],
      "metadata": {
        "colab": {
          "base_uri": "https://localhost:8080/"
        },
        "id": "dSHQadBclBr9",
        "outputId": "a49c4df8-bcba-4583-be24-e92a2ab1d0e3"
      },
      "execution_count": 8,
      "outputs": [
        {
          "output_type": "stream",
          "name": "stdout",
          "text": [
            "Accuracy: 0.8429752066115702\n",
            "Precision: 0.8131868131868132\n",
            "Recall: 0.9736842105263158\n",
            "F1 score: 0.8862275449101796\n"
          ]
        }
      ]
    },
    {
      "cell_type": "code",
      "source": [
        "from sklearn.linear_model import LogisticRegression\n",
        "\n",
        "X_train_final = []\n",
        "y_train_final = []\n",
        "\n",
        "y_train_final_1 = model_1.predict(X_train)\n",
        "y_train_final_2 = model_2.predict(X_train)\n",
        "y_train_final_3 = model_3.predict(X_train)\n",
        "\n",
        "for i in range(len(y_train_final_1)):\n",
        "  X_train_final.append([y_train_final_1[i], y_train_final_2[i], y_train_final_3[i]])\n",
        "  y_train_final.append(y_train[i])\n",
        "\n",
        "# Training the final model on the outputs of other models\n",
        "model_final = LogisticRegression().fit(X_train_final, y_train_final)"
      ],
      "metadata": {
        "id": "az29hoGilFHG"
      },
      "execution_count": 9,
      "outputs": []
    },
    {
      "cell_type": "code",
      "source": [
        "from sklearn import metrics\n",
        "\n",
        "X_test_final = []\n",
        "y_test_final = []\n",
        "\n",
        "y_test_final_1 = model_1.predict(X_test)\n",
        "y_test_final_2 = model_2.predict(X_test)\n",
        "y_test_final_3 = model_3.predict(X_test)\n",
        "\n",
        "for i in range(len(y_test_final_1)):\n",
        "  X_test_final.append([y_test_final_1[i], y_test_final_2[i], y_test_final_3[i]])\n",
        "  y_test_final.append(y_test[i])\n",
        "\n",
        "y_pred_final = model_final.predict(X_test_final)\n",
        "\n",
        "print(\"Accuracy:\",metrics.accuracy_score(y_test_final, y_pred_final))\n",
        "print(\"Precision:\",metrics.precision_score(y_test_final,y_pred_final))\n",
        "print(\"Recall:\",metrics.recall_score(y_test_final,y_pred_final))\n",
        "print(\"F1 score:\",metrics.f1_score(y_test_final,y_pred_final))"
      ],
      "metadata": {
        "colab": {
          "base_uri": "https://localhost:8080/"
        },
        "id": "j61HvhaKlJMN",
        "outputId": "7a77ad71-1c90-42a1-e75d-c4cbff0e4c02"
      },
      "execution_count": 10,
      "outputs": [
        {
          "output_type": "stream",
          "name": "stdout",
          "text": [
            "Accuracy: 0.9651162790697675\n",
            "Precision: 0.9682539682539683\n",
            "Recall: 0.9838709677419355\n",
            "F1 score: 0.976\n"
          ]
        }
      ]
    },
    {
      "cell_type": "code",
      "source": [
        "from sklearn.ensemble import StackingClassifier\n",
        "\n",
        "estimators = [\n",
        "    ('gnb', GaussianNB()),\n",
        "    ('dt', tree.DecisionTreeClassifier(max_depth=1)),\n",
        "    ('mnb', MultinomialNB())\n",
        "]\n",
        "\n",
        "model_stacked = StackingClassifier(estimators=estimators).fit(X_train, y_train)\n",
        "\n",
        "y_pred_stacked = model_stacked.predict(X_test)\n",
        "\n",
        "print(\"Accuracy:\",metrics.accuracy_score(y_test, y_pred_stacked))\n",
        "print(\"Precision:\",metrics.precision_score(y_test,y_pred_stacked))\n",
        "print(\"Recall:\",metrics.recall_score(y_test,y_pred_stacked))\n",
        "print(\"F1 score:\",metrics.f1_score(y_test,y_pred_stacked))"
      ],
      "metadata": {
        "colab": {
          "base_uri": "https://localhost:8080/"
        },
        "id": "CtGOYMkElQxA",
        "outputId": "8c570e4b-cca9-4ba4-be67-7134d21264a5"
      },
      "execution_count": 11,
      "outputs": [
        {
          "output_type": "stream",
          "name": "stdout",
          "text": [
            "Accuracy: 0.9534883720930233\n",
            "Precision: 0.953125\n",
            "Recall: 0.9838709677419355\n",
            "F1 score: 0.9682539682539683\n"
          ]
        }
      ]
    },
    {
      "cell_type": "code",
      "source": [
        "from sklearn.ensemble import BaggingClassifier\n",
        "\n",
        "model_bagged = BaggingClassifier(max_features = 0.57).fit(X_train, y_train)\n",
        "\n",
        "y_pred_bagged = model_bagged.predict(X_test)\n",
        "\n",
        "print(\"Accuracy:\",metrics.accuracy_score(y_test, y_pred_bagged))\n",
        "print(\"Precision:\",metrics.precision_score(y_test,y_pred_bagged))\n",
        "print(\"Recall:\",metrics.recall_score(y_test,y_pred_bagged))\n",
        "print(\"F1 score:\",metrics.f1_score(y_test,y_pred_bagged))"
      ],
      "metadata": {
        "colab": {
          "base_uri": "https://localhost:8080/"
        },
        "id": "SMosasVDlU54",
        "outputId": "8973de13-9864-4fa5-abcb-b90fd222b0e1"
      },
      "execution_count": 12,
      "outputs": [
        {
          "output_type": "stream",
          "name": "stdout",
          "text": [
            "Accuracy: 0.9767441860465116\n",
            "Precision: 1.0\n",
            "Recall: 0.967741935483871\n",
            "F1 score: 0.9836065573770492\n"
          ]
        }
      ]
    },
    {
      "cell_type": "code",
      "source": [
        "from sklearn.ensemble import RandomForestClassifier\n",
        "\n",
        "model_random_forest = RandomForestClassifier(n_estimators=100).fit(X_train, y_train)\n",
        "\n",
        "y_pred_random_forest = model_random_forest.predict(X_test)\n",
        "\n",
        "print(\"Accuracy:\",metrics.accuracy_score(y_test, y_pred_random_forest))\n",
        "print(\"Precision:\",metrics.precision_score(y_test,y_pred_random_forest))\n",
        "print(\"Recall:\",metrics.recall_score(y_test,y_pred_random_forest))\n",
        "print(\"F1 score:\",metrics.f1_score(y_test,y_pred_random_forest))"
      ],
      "metadata": {
        "colab": {
          "base_uri": "https://localhost:8080/"
        },
        "id": "C1uxRNLelZc-",
        "outputId": "c81ba2c5-dd12-4bac-bec8-73bdc4e6dfa1"
      },
      "execution_count": 13,
      "outputs": [
        {
          "output_type": "stream",
          "name": "stdout",
          "text": [
            "Accuracy: 0.9883720930232558\n",
            "Precision: 1.0\n",
            "Recall: 0.9838709677419355\n",
            "F1 score: 0.991869918699187\n"
          ]
        }
      ]
    },
    {
      "cell_type": "code",
      "source": [
        "from sklearn.ensemble import AdaBoostClassifier\n",
        "\n",
        "model_adaboost = AdaBoostClassifier(n_estimators=100, learning_rate=1).fit(X_train, y_train)\n",
        "\n",
        "y_pred_adaboost = model_adaboost.predict(X_test)\n",
        "\n",
        "print(\"Accuracy:\",metrics.accuracy_score(y_test, y_pred_adaboost))\n",
        "print(\"Precision:\",metrics.precision_score(y_test,y_pred_adaboost))\n",
        "print(\"Recall:\",metrics.recall_score(y_test,y_pred_adaboost))\n",
        "print(\"F1 score:\",metrics.f1_score(y_test,y_pred_adaboost))\n"
      ],
      "metadata": {
        "colab": {
          "base_uri": "https://localhost:8080/"
        },
        "id": "vOWcuP5oleRM",
        "outputId": "09a9f6bf-9c5a-49e2-8442-430998c847d3"
      },
      "execution_count": 14,
      "outputs": [
        {
          "output_type": "stream",
          "name": "stdout",
          "text": [
            "Accuracy: 0.9767441860465116\n",
            "Precision: 0.9838709677419355\n",
            "Recall: 0.9838709677419355\n",
            "F1 score: 0.9838709677419355\n"
          ]
        }
      ]
    },
    {
      "cell_type": "markdown",
      "source": [
        "**Exercise**\n",
        "Implement the Adaboost Regressor for diabetes dataset"
      ],
      "metadata": {
        "id": "qvrbicwTlizQ"
      }
    },
    {
      "cell_type": "code",
      "source": [
        "from sklearn.datasets import load_diabetes\n",
        "\n",
        "data = load_diabetes()\n",
        "data.target, data.feature_names, len(data.feature_names), data.data"
      ],
      "metadata": {
        "colab": {
          "base_uri": "https://localhost:8080/"
        },
        "id": "YdzhWx9NllZ0",
        "outputId": "5bdbf275-9fff-4752-9e6d-f454ad153ac9"
      },
      "execution_count": 15,
      "outputs": [
        {
          "output_type": "execute_result",
          "data": {
            "text/plain": [
              "(array([151.,  75., 141., 206., 135.,  97., 138.,  63., 110., 310., 101.,\n",
              "         69., 179., 185., 118., 171., 166., 144.,  97., 168.,  68.,  49.,\n",
              "         68., 245., 184., 202., 137.,  85., 131., 283., 129.,  59., 341.,\n",
              "         87.,  65., 102., 265., 276., 252.,  90., 100.,  55.,  61.,  92.,\n",
              "        259.,  53., 190., 142.,  75., 142., 155., 225.,  59., 104., 182.,\n",
              "        128.,  52.,  37., 170., 170.,  61., 144.,  52., 128.,  71., 163.,\n",
              "        150.,  97., 160., 178.,  48., 270., 202., 111.,  85.,  42., 170.,\n",
              "        200., 252., 113., 143.,  51.,  52., 210.,  65., 141.,  55., 134.,\n",
              "         42., 111.,  98., 164.,  48.,  96.,  90., 162., 150., 279.,  92.,\n",
              "         83., 128., 102., 302., 198.,  95.,  53., 134., 144., 232.,  81.,\n",
              "        104.,  59., 246., 297., 258., 229., 275., 281., 179., 200., 200.,\n",
              "        173., 180.,  84., 121., 161.,  99., 109., 115., 268., 274., 158.,\n",
              "        107.,  83., 103., 272.,  85., 280., 336., 281., 118., 317., 235.,\n",
              "         60., 174., 259., 178., 128.,  96., 126., 288.,  88., 292.,  71.,\n",
              "        197., 186.,  25.,  84.,  96., 195.,  53., 217., 172., 131., 214.,\n",
              "         59.,  70., 220., 268., 152.,  47.,  74., 295., 101., 151., 127.,\n",
              "        237., 225.,  81., 151., 107.,  64., 138., 185., 265., 101., 137.,\n",
              "        143., 141.,  79., 292., 178.,  91., 116.,  86., 122.,  72., 129.,\n",
              "        142.,  90., 158.,  39., 196., 222., 277.,  99., 196., 202., 155.,\n",
              "         77., 191.,  70.,  73.,  49.,  65., 263., 248., 296., 214., 185.,\n",
              "         78.,  93., 252., 150.,  77., 208.,  77., 108., 160.,  53., 220.,\n",
              "        154., 259.,  90., 246., 124.,  67.,  72., 257., 262., 275., 177.,\n",
              "         71.,  47., 187., 125.,  78.,  51., 258., 215., 303., 243.,  91.,\n",
              "        150., 310., 153., 346.,  63.,  89.,  50.,  39., 103., 308., 116.,\n",
              "        145.,  74.,  45., 115., 264.,  87., 202., 127., 182., 241.,  66.,\n",
              "         94., 283.,  64., 102., 200., 265.,  94., 230., 181., 156., 233.,\n",
              "         60., 219.,  80.,  68., 332., 248.,  84., 200.,  55.,  85.,  89.,\n",
              "         31., 129.,  83., 275.,  65., 198., 236., 253., 124.,  44., 172.,\n",
              "        114., 142., 109., 180., 144., 163., 147.,  97., 220., 190., 109.,\n",
              "        191., 122., 230., 242., 248., 249., 192., 131., 237.,  78., 135.,\n",
              "        244., 199., 270., 164.,  72.,  96., 306.,  91., 214.,  95., 216.,\n",
              "        263., 178., 113., 200., 139., 139.,  88., 148.,  88., 243.,  71.,\n",
              "         77., 109., 272.,  60.,  54., 221.,  90., 311., 281., 182., 321.,\n",
              "         58., 262., 206., 233., 242., 123., 167.,  63., 197.,  71., 168.,\n",
              "        140., 217., 121., 235., 245.,  40.,  52., 104., 132.,  88.,  69.,\n",
              "        219.,  72., 201., 110.,  51., 277.,  63., 118.,  69., 273., 258.,\n",
              "         43., 198., 242., 232., 175.,  93., 168., 275., 293., 281.,  72.,\n",
              "        140., 189., 181., 209., 136., 261., 113., 131., 174., 257.,  55.,\n",
              "         84.,  42., 146., 212., 233.,  91., 111., 152., 120.,  67., 310.,\n",
              "         94., 183.,  66., 173.,  72.,  49.,  64.,  48., 178., 104., 132.,\n",
              "        220.,  57.]),\n",
              " ['age', 'sex', 'bmi', 'bp', 's1', 's2', 's3', 's4', 's5', 's6'],\n",
              " 10,\n",
              " array([[ 0.03807591,  0.05068012,  0.06169621, ..., -0.00259226,\n",
              "          0.01990749, -0.01764613],\n",
              "        [-0.00188202, -0.04464164, -0.05147406, ..., -0.03949338,\n",
              "         -0.06833155, -0.09220405],\n",
              "        [ 0.08529891,  0.05068012,  0.04445121, ..., -0.00259226,\n",
              "          0.00286131, -0.02593034],\n",
              "        ...,\n",
              "        [ 0.04170844,  0.05068012, -0.01590626, ..., -0.01107952,\n",
              "         -0.04688253,  0.01549073],\n",
              "        [-0.04547248, -0.04464164,  0.03906215, ...,  0.02655962,\n",
              "          0.04452873, -0.02593034],\n",
              "        [-0.04547248, -0.04464164, -0.0730303 , ..., -0.03949338,\n",
              "         -0.00422151,  0.00306441]]))"
            ]
          },
          "metadata": {},
          "execution_count": 15
        }
      ]
    },
    {
      "cell_type": "code",
      "source": [
        "from sklearn import preprocessing\n",
        "\n",
        "X = preprocessing.MinMaxScaler().fit_transform(data.data)\n",
        "y = data.target"
      ],
      "metadata": {
        "id": "pU5RXgzClqyh"
      },
      "execution_count": 16,
      "outputs": []
    },
    {
      "cell_type": "code",
      "source": [
        "from sklearn.model_selection import train_test_split\n",
        "\n",
        "X_train, X_test, y_train, y_test = train_test_split(\n",
        "    X,\n",
        "    y,\n",
        "    train_size = 0.85\n",
        ")"
      ],
      "metadata": {
        "id": "MmLKWLQ2lvQF"
      },
      "execution_count": 17,
      "outputs": []
    },
    {
      "cell_type": "code",
      "source": [
        "model_adaboost_regressor = AdaBoostRegressor(n_estimators=100, learning_rate=0.001, loss='square').fit(X_train, y_train)\n",
        "y_pred = model_adaboost_regressor.predict(X_test)\n",
        "loss = mean_squared_error(y_test, y_pred)\n",
        "loss"
      ],
      "metadata": {
        "id": "1n6_UwZRlx3V"
      },
      "execution_count": null,
      "outputs": []
    }
  ]
}