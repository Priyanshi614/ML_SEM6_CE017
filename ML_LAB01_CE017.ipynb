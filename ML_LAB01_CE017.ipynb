{
  "nbformat": 4,
  "nbformat_minor": 0,
  "metadata": {
    "colab": {
      "provenance": [],
      "authorship_tag": "ABX9TyNAZC8fqUHPrjkwUeARRBso",
      "include_colab_link": true
    },
    "kernelspec": {
      "name": "python3",
      "display_name": "Python 3"
    },
    "language_info": {
      "name": "python"
    }
  },
  "cells": [
    {
      "cell_type": "markdown",
      "metadata": {
        "id": "view-in-github",
        "colab_type": "text"
      },
      "source": [
        "<a href=\"https://colab.research.google.com/github/Priyanshi614/ML_SEM6_CE017/blob/main/ML_LAB01_CE017.ipynb\" target=\"_parent\"><img src=\"https://colab.research.google.com/assets/colab-badge.svg\" alt=\"Open In Colab\"/></a>"
      ]
    },
    {
      "cell_type": "code",
      "execution_count": 2,
      "metadata": {
        "id": "jMsO85rTUPOM"
      },
      "outputs": [],
      "source": [
        "import numpy as np"
      ]
    },
    {
      "cell_type": "code",
      "source": [
        "x=5\n",
        "print(x,\" TYPE: \",type(x))\n",
        "x=\"Hello\"\n",
        "print(x,\" TYPE: \",type(x))\n",
        "x=[1,2,3]\n",
        "print(x,\" TYPE: \",type(x))"
      ],
      "metadata": {
        "colab": {
          "base_uri": "https://localhost:8080/"
        },
        "id": "YjiydvhRV7jw",
        "outputId": "800694f5-5263-43df-8ee1-f76169acd408"
      },
      "execution_count": 3,
      "outputs": [
        {
          "output_type": "stream",
          "name": "stdout",
          "text": [
            "5  TYPE:  <class 'int'>\n",
            "Hello  TYPE:  <class 'str'>\n",
            "[1, 2, 3]  TYPE:  <class 'list'>\n"
          ]
        }
      ]
    },
    {
      "cell_type": "code",
      "source": [
        "alist = [1,2,3,4,5]\n",
        "narray = np.array([1,2,3,4,5])\n",
        "blist = [5,6,7,8,9]\n",
        "#narray1 = np.array([5,6,7,8]) elements should be of same shape\n",
        "narray1 = np.array([5,6,7,8,9])\n",
        "print(alist)\n",
        "print(narray)\n",
        "print(type(alist))\n",
        "print(type(narray))\n",
        "print(narray+narray) #element wise addition\n",
        "print(alist+alist) #union including repeated values\n",
        "print(narray+narray1)\n",
        "print(alist+blist)\n",
        "print(alist*3)\n",
        "print(narray*3)"
      ],
      "metadata": {
        "id": "RhKgtkn9XH8z",
        "colab": {
          "base_uri": "https://localhost:8080/"
        },
        "outputId": "c7ce8a00-8451-4f88-abad-dad391c8a6a9"
      },
      "execution_count": 4,
      "outputs": [
        {
          "output_type": "stream",
          "name": "stdout",
          "text": [
            "[1, 2, 3, 4, 5]\n",
            "[1 2 3 4 5]\n",
            "<class 'list'>\n",
            "<class 'numpy.ndarray'>\n",
            "[ 2  4  6  8 10]\n",
            "[1, 2, 3, 4, 5, 1, 2, 3, 4, 5]\n",
            "[ 6  8 10 12 14]\n",
            "[1, 2, 3, 4, 5, 5, 6, 7, 8, 9]\n",
            "[1, 2, 3, 4, 5, 1, 2, 3, 4, 5, 1, 2, 3, 4, 5]\n",
            "[ 3  6  9 12 15]\n"
          ]
        }
      ]
    },
    {
      "cell_type": "code",
      "source": [
        "x = np.array([[1,2],[1,2]], dtype=np.float64)\n",
        "y = np.array([[2,1],[2,1]], dtype=np.float64)\n",
        "print(x + y)\n",
        "print(np.add(x, y))\n",
        "print(x - y)\n",
        "print(np.subtract(x, y))\n",
        "print(x * y)\n",
        "print(np.multiply(x, y))\n",
        "print(x / y)\n",
        "print(np.divide(x, y))\n"
      ],
      "metadata": {
        "colab": {
          "base_uri": "https://localhost:8080/"
        },
        "id": "wAtP2Q-KXcBO",
        "outputId": "b98c43f2-649f-4503-cba9-f204a023cec2"
      },
      "execution_count": 5,
      "outputs": [
        {
          "output_type": "stream",
          "name": "stdout",
          "text": [
            "[[3. 3.]\n",
            " [3. 3.]]\n",
            "[[3. 3.]\n",
            " [3. 3.]]\n",
            "[[-1.  1.]\n",
            " [-1.  1.]]\n",
            "[[-1.  1.]\n",
            " [-1.  1.]]\n",
            "[[2. 2.]\n",
            " [2. 2.]]\n",
            "[[2. 2.]\n",
            " [2. 2.]]\n",
            "[[0.5 2. ]\n",
            " [0.5 2. ]]\n",
            "[[0.5 2. ]\n",
            " [0.5 2. ]]\n"
          ]
        }
      ]
    },
    {
      "cell_type": "code",
      "source": [
        "nx = np.array([[1,2],[1,2]], dtype=np.float64)\n",
        "y = np.array([[2,1],[2,1]], dtype=np.float64)\n",
        "print(x.dot(y))\n",
        "print(np.sqrt(x))\n",
        "print(x.dot(y))\n",
        "print(np.dot(x, y))\n",
        "print(x @ y)"
      ],
      "metadata": {
        "id": "lpz1gbbcXvLZ",
        "colab": {
          "base_uri": "https://localhost:8080/"
        },
        "outputId": "cd4c2b67-5b6d-41b4-fd8b-5aaa65a2f718"
      },
      "execution_count": 6,
      "outputs": [
        {
          "output_type": "stream",
          "name": "stdout",
          "text": [
            "[[6. 3.]\n",
            " [6. 3.]]\n",
            "[[1.         1.41421356]\n",
            " [1.         1.41421356]]\n",
            "[[6. 3.]\n",
            " [6. 3.]]\n",
            "[[6. 3.]\n",
            " [6. 3.]]\n",
            "[[6. 3.]\n",
            " [6. 3.]]\n"
          ]
        }
      ]
    },
    {
      "cell_type": "code",
      "source": [
        "x = np.array([[1,2,6],[3,4,5]])\n",
        "print(np.sum(x)) \n",
        "print(np.sum(x, axis=0)) \n",
        "print(np.sum(x, axis=1))\n",
        "print(x)\n",
        "print(\"transpose\\n\", x.T)"
      ],
      "metadata": {
        "colab": {
          "base_uri": "https://localhost:8080/"
        },
        "id": "ZWjSWG2URoRM",
        "outputId": "29890666-cb81-4d2a-b202-55401f6f8c98"
      },
      "execution_count": 7,
      "outputs": [
        {
          "output_type": "stream",
          "name": "stdout",
          "text": [
            "21\n",
            "[ 4  6 11]\n",
            "[ 9 12]\n",
            "[[1 2 6]\n",
            " [3 4 5]]\n",
            "transpose\n",
            " [[1 3]\n",
            " [2 4]\n",
            " [6 5]]\n"
          ]
        }
      ]
    },
    {
      "cell_type": "code",
      "source": [
        "badmatrix = np.array([[1,2 ], [3, 4], [6,7,8]]) # Define a matrix.\n",
        "\n",
        "print(badmatrix) # Print the malformed matrix\n",
        "print(badmatrix * 2) # It is supposed to scale the whole matrix\n",
        "badmatrix = np.array([[1,2 ], [3, 4], [6,7]])\n",
        "result = badmatrix * 2 + 1\n",
        "print(result)"
      ],
      "metadata": {
        "colab": {
          "base_uri": "https://localhost:8080/"
        },
        "id": "qB7o3bGfRp9f",
        "outputId": "81fbe533-842c-4848-85ae-05f0bbc39739"
      },
      "execution_count": 9,
      "outputs": [
        {
          "output_type": "stream",
          "name": "stdout",
          "text": [
            "[list([1, 2]) list([3, 4]) list([6, 7, 8])]\n",
            "[list([1, 2, 1, 2]) list([3, 4, 3, 4]) list([6, 7, 8, 6, 7, 8])]\n",
            "[[ 3  5]\n",
            " [ 7  9]\n",
            " [13 15]]\n"
          ]
        },
        {
          "output_type": "stream",
          "name": "stderr",
          "text": [
            "<ipython-input-9-f11f57d3a0e9>:1: VisibleDeprecationWarning: Creating an ndarray from ragged nested sequences (which is a list-or-tuple of lists-or-tuples-or ndarrays with different lengths or shapes) is deprecated. If you meant to do this, you must specify 'dtype=object' when creating the ndarray.\n",
            "  badmatrix = np.array([[1,2 ], [3, 4], [6,7,8]]) # Define a matrix.\n"
          ]
        }
      ]
    },
    {
      "cell_type": "code",
      "source": [
        "nparray = np.array([1, 2, 3, 4])#array\n",
        "nparray = np.array([[1, 2, 3, 4]])#matrix\n",
        "nparray1 = np.array([1, 2, 3, 4]) # Define an array\n",
        "norm1 = np.linalg.norm(nparray1)\n",
        "nparray2 = np.array([[1, 2], [3, 4]]) # if not mentioned \n",
        "norm2 = np.linalg.norm(nparray2)\n",
        "print(norm1)\n",
        "print(norm2)"
      ],
      "metadata": {
        "colab": {
          "base_uri": "https://localhost:8080/"
        },
        "id": "ukWz6N5dRw8E",
        "outputId": "89f17193-bbe5-4da3-e8ab-633ae20c874d"
      },
      "execution_count": 10,
      "outputs": [
        {
          "output_type": "stream",
          "name": "stdout",
          "text": [
            "5.477225575051661\n",
            "5.477225575051661\n"
          ]
        }
      ]
    },
    {
      "cell_type": "code",
      "source": [
        "#exercise\n",
        "\n",
        "#ex1,2\n",
        "nparray1 = np.array([[1, 2, 3, 4],[1, 2, 3, 4],[1, 2, 3, 4],[1, 2, 3, 4],[1, 2, 3, 4]])\n",
        "nparray2 = np.array([[1, 2, 3, 4,5],[1, 2, 3, 4,5],[1, 2, 3, 4,5],[1, 2, 3, 4,5]])\n",
        "print(nparray1)\n",
        "print(nparray2)\n",
        "\n",
        "#ex3\n",
        "print(nparray1.dot(nparray2))\n",
        "#print(np.multiply(nparray1, nparray2)) error\n",
        "\n",
        "#ex4\n",
        "print(np.multiply(nparray1, nparray2.T))\n",
        "\n",
        "#ex5\n",
        "print(np.mean(nparray1))\n",
        "print(np.median(nparray1))\n",
        "\n",
        "#ex6\n",
        "sq_matrix = nparray1.dot(nparray2)\n",
        "print(nparray1.T)\n",
        "print(sq_matrix)\n",
        "det1 = np.linalg.det(sq_matrix)\n",
        "print(det1)\n",
        "\n",
        "#ex7\n",
        "print(nparray1[:,1])\n",
        "\n",
        "#ex8"
      ],
      "metadata": {
        "colab": {
          "base_uri": "https://localhost:8080/"
        },
        "id": "AY91c3GtRynR",
        "outputId": "0f673a36-d5af-47f4-95af-55784f61a393"
      },
      "execution_count": 11,
      "outputs": [
        {
          "output_type": "stream",
          "name": "stdout",
          "text": [
            "[[1 2 3 4]\n",
            " [1 2 3 4]\n",
            " [1 2 3 4]\n",
            " [1 2 3 4]\n",
            " [1 2 3 4]]\n",
            "[[1 2 3 4 5]\n",
            " [1 2 3 4 5]\n",
            " [1 2 3 4 5]\n",
            " [1 2 3 4 5]]\n",
            "[[10 20 30 40 50]\n",
            " [10 20 30 40 50]\n",
            " [10 20 30 40 50]\n",
            " [10 20 30 40 50]\n",
            " [10 20 30 40 50]]\n",
            "[[ 1  2  3  4]\n",
            " [ 2  4  6  8]\n",
            " [ 3  6  9 12]\n",
            " [ 4  8 12 16]\n",
            " [ 5 10 15 20]]\n",
            "2.5\n",
            "2.5\n",
            "[[1 1 1 1 1]\n",
            " [2 2 2 2 2]\n",
            " [3 3 3 3 3]\n",
            " [4 4 4 4 4]]\n",
            "[[10 20 30 40 50]\n",
            " [10 20 30 40 50]\n",
            " [10 20 30 40 50]\n",
            " [10 20 30 40 50]\n",
            " [10 20 30 40 50]]\n",
            "0.0\n",
            "[2 2 2 2 2]\n"
          ]
        }
      ]
    }
  ]
}